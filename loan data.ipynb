{
 "cells": [
  {
   "cell_type": "code",
   "execution_count": 1,
   "id": "5f840fa2-a695-420b-b452-caee95fdc901",
   "metadata": {},
   "outputs": [],
   "source": [
    "import numpy as np"
   ]
  },
  {
   "cell_type": "code",
   "execution_count": 3,
   "id": "2f489416-dfdb-4b64-ad79-de7db54d87f1",
   "metadata": {},
   "outputs": [],
   "source": [
    "np.set_printoptions(suppress=True, precision=2)"
   ]
  },
  {
   "cell_type": "code",
   "execution_count": 5,
   "id": "7dd75fdb-66cc-4bea-9960-bc54a2791ee2",
   "metadata": {},
   "outputs": [
    {
     "data": {
      "text/plain": [
       "array([[48010226.  ,         nan,    35000.  , ...,         nan,\n",
       "                nan,     9452.96],\n",
       "       [57693261.  ,         nan,    30000.  , ...,         nan,\n",
       "                nan,     4679.7 ],\n",
       "       [59432726.  ,         nan,    15000.  , ...,         nan,\n",
       "                nan,     1969.83],\n",
       "       ...,\n",
       "       [50415990.  ,         nan,    10000.  , ...,         nan,\n",
       "                nan,     2185.64],\n",
       "       [46154151.  ,         nan,         nan, ...,         nan,\n",
       "                nan,     3199.4 ],\n",
       "       [66055249.  ,         nan,    10000.  , ...,         nan,\n",
       "                nan,      301.9 ]])"
      ]
     },
     "execution_count": 5,
     "metadata": {},
     "output_type": "execute_result"
    }
   ],
   "source": [
    "raw_data_np = np.genfromtxt(\"loan-data.csv\", delimiter = ';', skip_header = 1, autostrip = True)\n",
    "raw_data_np"
   ]
  },
  {
   "cell_type": "code",
   "execution_count": 7,
   "id": "e14dceb0-1201-4da2-83a2-2d51fcc36952",
   "metadata": {},
   "outputs": [
    {
     "data": {
      "text/plain": [
       "91500"
      ]
     },
     "execution_count": 7,
     "metadata": {},
     "output_type": "execute_result"
    }
   ],
   "source": [
    "np.isnan(raw_data_np).sum()"
   ]
  },
  {
   "cell_type": "code",
   "execution_count": 9,
   "id": "f01a47f0-c05e-40fa-a042-633ae6fdc26f",
   "metadata": {},
   "outputs": [
    {
     "name": "stderr",
     "output_type": "stream",
     "text": [
      "C:\\Users\\acer\\AppData\\Local\\Temp\\ipykernel_10160\\3983241459.py:2: RuntimeWarning: Mean of empty slice\n",
      "  temporary_mean = np.nanmean(raw_data_np, axis = 0)\n"
     ]
    }
   ],
   "source": [
    "temporary_fill = np.nanmax(raw_data_np) + 1\n",
    "temporary_mean = np.nanmean(raw_data_np, axis = 0)"
   ]
  },
  {
   "cell_type": "code",
   "execution_count": 13,
   "id": "84a826d5-486f-435b-bdf9-fdf3d3938fee",
   "metadata": {},
   "outputs": [
    {
     "data": {
      "text/plain": [
       "array([54015809.19,         nan,    15273.46,         nan,    15311.04,\n",
       "               nan,        0.01,      440.92,         nan,         nan,\n",
       "               nan,         nan,         nan,     3143.85])"
      ]
     },
     "execution_count": 13,
     "metadata": {},
     "output_type": "execute_result"
    }
   ],
   "source": [
    "temporary_mean"
   ]
  },
  {
   "cell_type": "code",
   "execution_count": 15,
   "id": "876ce6ef-d81c-403a-817c-311ae19fcc3f",
   "metadata": {},
   "outputs": [
    {
     "name": "stderr",
     "output_type": "stream",
     "text": [
      "C:\\Users\\acer\\AppData\\Local\\Temp\\ipykernel_10160\\1851770469.py:1: RuntimeWarning: All-NaN slice encountered\n",
      "  temporary_stats = np.array([np.nanmin(raw_data_np, axis = 0),\n",
      "C:\\Users\\acer\\AppData\\Local\\Temp\\ipykernel_10160\\1851770469.py:3: RuntimeWarning: All-NaN slice encountered\n",
      "  np.nanmax(raw_data_np, axis = 0)])\n"
     ]
    }
   ],
   "source": [
    "temporary_stats = np.array([np.nanmin(raw_data_np, axis = 0),\n",
    "                           temporary_mean,\n",
    "                           np.nanmax(raw_data_np, axis = 0)])\n"
   ]
  },
  {
   "cell_type": "code",
   "execution_count": 17,
   "id": "f2d11c6c-77df-47e5-8fb2-1de681d16371",
   "metadata": {},
   "outputs": [
    {
     "data": {
      "text/plain": [
       "array([[  373332.  ,         nan,     1000.  ,         nan,     1000.  ,\n",
       "                nan,        0.  ,       31.42,         nan,         nan,\n",
       "                nan,         nan,         nan,        0.  ],\n",
       "       [54015809.19,         nan,    15273.46,         nan,    15311.04,\n",
       "                nan,        0.01,      440.92,         nan,         nan,\n",
       "                nan,         nan,         nan,     3143.85],\n",
       "       [68616519.  ,         nan,    35000.  ,         nan,    35000.  ,\n",
       "                nan,        6.  ,     1372.97,         nan,         nan,\n",
       "                nan,         nan,         nan,    41913.62]])"
      ]
     },
     "execution_count": 17,
     "metadata": {},
     "output_type": "execute_result"
    }
   ],
   "source": [
    "temporary_stats"
   ]
  },
  {
   "cell_type": "code",
   "execution_count": 19,
   "id": "6ff0734f-6c81-4c75-8c5c-de9c2d838a57",
   "metadata": {},
   "outputs": [
    {
     "data": {
      "text/plain": [
       "array([ 1,  3,  5,  8,  9, 10, 11, 12], dtype=int64)"
      ]
     },
     "execution_count": 19,
     "metadata": {},
     "output_type": "execute_result"
    }
   ],
   "source": [
    "column_strings = np.argwhere(np.isnan(temporary_mean)).squeeze()\n",
    "column_strings"
   ]
  },
  {
   "cell_type": "code",
   "execution_count": 21,
   "id": "35fe2e7e-4194-4af4-aff3-55dbb397c3fa",
   "metadata": {},
   "outputs": [
    {
     "data": {
      "text/plain": [
       "array([ 0,  2,  4,  6,  7, 13], dtype=int64)"
      ]
     },
     "execution_count": 21,
     "metadata": {},
     "output_type": "execute_result"
    }
   ],
   "source": [
    "column_numeric = np.argwhere(np.isnan(temporary_mean) == False).squeeze()\n",
    "column_numeric"
   ]
  },
  {
   "cell_type": "code",
   "execution_count": 23,
   "id": "e7947d18-2353-44d4-90f9-c3d80385ef63",
   "metadata": {},
   "outputs": [
    {
     "data": {
      "text/plain": [
       "array([['May-15', 'Current', '36 months', ..., 'Verified',\n",
       "        'https://www.lendingclub.com/browse/loanDetail.action?loan_id=48010226',\n",
       "        'CA'],\n",
       "       ['', 'Current', '36 months', ..., 'Source Verified',\n",
       "        'https://www.lendingclub.com/browse/loanDetail.action?loan_id=57693261',\n",
       "        'NY'],\n",
       "       ['Sep-15', 'Current', '36 months', ..., 'Verified',\n",
       "        'https://www.lendingclub.com/browse/loanDetail.action?loan_id=59432726',\n",
       "        'PA'],\n",
       "       ...,\n",
       "       ['Jun-15', 'Current', '36 months', ..., 'Source Verified',\n",
       "        'https://www.lendingclub.com/browse/loanDetail.action?loan_id=50415990',\n",
       "        'CA'],\n",
       "       ['Apr-15', 'Current', '36 months', ..., 'Source Verified',\n",
       "        'https://www.lendingclub.com/browse/loanDetail.action?loan_id=46154151',\n",
       "        'OH'],\n",
       "       ['Dec-15', 'Current', '36 months', ..., '',\n",
       "        'https://www.lendingclub.com/browse/loanDetail.action?loan_id=66055249',\n",
       "        'IL']], dtype='<U69')"
      ]
     },
     "execution_count": 23,
     "metadata": {},
     "output_type": "execute_result"
    }
   ],
   "source": [
    "loan_data_strings = np.genfromtxt(\"loan-data.csv\", \n",
    "                                  delimiter = ';', \n",
    "                                  skip_header = 1, \n",
    "                                  autostrip = True,\n",
    "                                  usecols = column_strings,\n",
    "                                  dtype = str)\n",
    "loan_data_strings"
   ]
  },
  {
   "cell_type": "code",
   "execution_count": 27,
   "id": "26cc7f60-bd07-4fda-8c14-a7b79f19c343",
   "metadata": {},
   "outputs": [],
   "source": [
    "def comma_to_dot(x):\n",
    "    return float(x.decode('utf-8').replace(',', '.'))"
   ]
  },
  {
   "cell_type": "code",
   "execution_count": 29,
   "id": "e0c48013-0ad8-4844-bb10-f9009bf660e7",
   "metadata": {},
   "outputs": [
    {
     "data": {
      "text/plain": [
       "array([[48010226.  ,    35000.  ,    35000.  ,       13.33,     1184.86,\n",
       "            9452.96],\n",
       "       [57693261.  ,    30000.  ,    30000.  ,        7.89,      938.57,\n",
       "            4679.7 ],\n",
       "       [59432726.  ,    15000.  ,    15000.  ,       11.53,      494.86,\n",
       "            1969.83],\n",
       "       ...,\n",
       "       [50415990.  ,    10000.  ,    10000.  ,        7.89, 68616520.  ,\n",
       "            2185.64],\n",
       "       [46154151.  , 68616520.  ,    10000.  ,       16.55,      354.3 ,\n",
       "            3199.4 ],\n",
       "       [66055249.  ,    10000.  ,    10000.  ,        7.26,      309.97,\n",
       "             301.9 ]])"
      ]
     },
     "execution_count": 29,
     "metadata": {},
     "output_type": "execute_result"
    }
   ],
   "source": [
    "loan_data_numeric = np.genfromtxt(\"loan-data.csv\", \n",
    "                                  delimiter=';', \n",
    "                                  skip_header=1, \n",
    "                                  autostrip=True,\n",
    "                                  usecols=column_numeric,\n",
    "                                  filling_values=temporary_fill,\n",
    "                                  converters={col: comma_to_dot for col in column_numeric})\n",
    "loan_data_numeric"
   ]
  },
  {
   "cell_type": "code",
   "execution_count": 31,
   "id": "33eda4ba-34fb-421b-b2ca-53d983c6ed8a",
   "metadata": {},
   "outputs": [
    {
     "data": {
      "text/plain": [
       "array(['id', 'issue_d', 'loan_amnt', 'loan_status', 'funded_amnt', 'term',\n",
       "       'int_rate', 'installment', 'grade', 'sub_grade',\n",
       "       'verification_status', 'url', 'addr_state', 'total_pymnt'],\n",
       "      dtype='<U19')"
      ]
     },
     "execution_count": 31,
     "metadata": {},
     "output_type": "execute_result"
    }
   ],
   "source": [
    "header_full = np.genfromtxt(\"loan-data.csv\", \n",
    "                                  delimiter = ';', \n",
    "                                  autostrip = True,\n",
    "                                  skip_footer = raw_data_np.shape[0],\n",
    "                                  dtype = str)\n",
    "header_full"
   ]
  },
  {
   "cell_type": "code",
   "execution_count": 33,
   "id": "23e91364-d67d-4919-a11b-3afedcbe5916",
   "metadata": {},
   "outputs": [],
   "source": [
    "header_strings, header_numeric = header_full[column_strings], header_full[column_numeric]"
   ]
  },
  {
   "cell_type": "code",
   "execution_count": 35,
   "id": "29318b68-b142-4c2c-be91-98e3f7889a51",
   "metadata": {},
   "outputs": [
    {
     "data": {
      "text/plain": [
       "array(['issue_d', 'loan_status', 'term', 'grade', 'sub_grade',\n",
       "       'verification_status', 'url', 'addr_state'], dtype='<U19')"
      ]
     },
     "execution_count": 35,
     "metadata": {},
     "output_type": "execute_result"
    }
   ],
   "source": [
    "header_strings"
   ]
  },
  {
   "cell_type": "code",
   "execution_count": 37,
   "id": "2cd9187b-09e6-467f-9069-219745d89543",
   "metadata": {},
   "outputs": [
    {
     "data": {
      "text/plain": [
       "array(['id', 'loan_amnt', 'funded_amnt', 'int_rate', 'installment',\n",
       "       'total_pymnt'], dtype='<U19')"
      ]
     },
     "execution_count": 37,
     "metadata": {},
     "output_type": "execute_result"
    }
   ],
   "source": [
    "header_numeric"
   ]
  },
  {
   "cell_type": "code",
   "execution_count": 39,
   "id": "479d1ca0-9c98-40c3-a009-e34506bade34",
   "metadata": {},
   "outputs": [],
   "source": [
    "def checkpoint(file_name, checkpoint_header, checkpoint_data):\n",
    "    np.savez(file_name, header = checkpoint_header, data = checkpoint_data)\n",
    "    checkpoint_variable = np.load(file_name + \".npz\")\n",
    "    return checkpoint_variable"
   ]
  },
  {
   "cell_type": "code",
   "execution_count": 41,
   "id": "73f79294-e0b6-47f1-b3f6-9609d8d97a40",
   "metadata": {},
   "outputs": [],
   "source": [
    "checkpoint_test = checkpoint(\"checkpoint-test\", header_strings, loan_data_strings)"
   ]
  },
  {
   "cell_type": "code",
   "execution_count": 43,
   "id": "5adf6fba-add6-4ceb-b15c-70eaaadcd3f0",
   "metadata": {},
   "outputs": [
    {
     "data": {
      "text/plain": [
       "array([['May-15', 'Current', '36 months', ..., 'Verified',\n",
       "        'https://www.lendingclub.com/browse/loanDetail.action?loan_id=48010226',\n",
       "        'CA'],\n",
       "       ['', 'Current', '36 months', ..., 'Source Verified',\n",
       "        'https://www.lendingclub.com/browse/loanDetail.action?loan_id=57693261',\n",
       "        'NY'],\n",
       "       ['Sep-15', 'Current', '36 months', ..., 'Verified',\n",
       "        'https://www.lendingclub.com/browse/loanDetail.action?loan_id=59432726',\n",
       "        'PA'],\n",
       "       ...,\n",
       "       ['Jun-15', 'Current', '36 months', ..., 'Source Verified',\n",
       "        'https://www.lendingclub.com/browse/loanDetail.action?loan_id=50415990',\n",
       "        'CA'],\n",
       "       ['Apr-15', 'Current', '36 months', ..., 'Source Verified',\n",
       "        'https://www.lendingclub.com/browse/loanDetail.action?loan_id=46154151',\n",
       "        'OH'],\n",
       "       ['Dec-15', 'Current', '36 months', ..., '',\n",
       "        'https://www.lendingclub.com/browse/loanDetail.action?loan_id=66055249',\n",
       "        'IL']], dtype='<U69')"
      ]
     },
     "execution_count": 43,
     "metadata": {},
     "output_type": "execute_result"
    }
   ],
   "source": [
    "checkpoint_test['data']"
   ]
  },
  {
   "cell_type": "code",
   "execution_count": 45,
   "id": "911e83f0-5890-46dd-80f1-91baf950e1f6",
   "metadata": {},
   "outputs": [
    {
     "data": {
      "text/plain": [
       "True"
      ]
     },
     "execution_count": 45,
     "metadata": {},
     "output_type": "execute_result"
    }
   ],
   "source": [
    "np.array_equal(checkpoint_test['data'], loan_data_strings)"
   ]
  },
  {
   "cell_type": "code",
   "execution_count": 47,
   "id": "eccc25f5-d1a0-4272-9715-ccc7001d6422",
   "metadata": {},
   "outputs": [
    {
     "data": {
      "text/plain": [
       "array(['issue_d', 'loan_status', 'term', 'grade', 'sub_grade',\n",
       "       'verification_status', 'url', 'addr_state'], dtype='<U19')"
      ]
     },
     "execution_count": 47,
     "metadata": {},
     "output_type": "execute_result"
    }
   ],
   "source": [
    "header_strings"
   ]
  },
  {
   "cell_type": "code",
   "execution_count": 49,
   "id": "25504cc3-5bd6-4f77-a490-5daa44f7c2a5",
   "metadata": {},
   "outputs": [],
   "source": [
    "header_strings[0] = 'issue_date'"
   ]
  },
  {
   "cell_type": "code",
   "execution_count": 51,
   "id": "0bf8673e-92f3-442b-826a-45683c0e8eb4",
   "metadata": {},
   "outputs": [
    {
     "data": {
      "text/plain": [
       "array(['', 'Apr-15', 'Aug-15', 'Dec-15', 'Feb-15', 'Jan-15', 'Jul-15',\n",
       "       'Jun-15', 'Mar-15', 'May-15', 'Nov-15', 'Oct-15', 'Sep-15'],\n",
       "      dtype='<U69')"
      ]
     },
     "execution_count": 51,
     "metadata": {},
     "output_type": "execute_result"
    }
   ],
   "source": [
    "np.unique(loan_data_strings[:,0])"
   ]
  },
  {
   "cell_type": "code",
   "execution_count": 53,
   "id": "f75d3be1-9c51-479b-b5c1-985fcb8263ed",
   "metadata": {},
   "outputs": [],
   "source": [
    "loan_data_strings[:,0] = np.chararray.strip(loan_data_strings[:,0], '-15')"
   ]
  },
  {
   "cell_type": "code",
   "execution_count": 55,
   "id": "972188b1-51bb-4a74-952c-5ae1939774bf",
   "metadata": {},
   "outputs": [
    {
     "data": {
      "text/plain": [
       "array(['', 'Apr', 'Aug', 'Dec', 'Feb', 'Jan', 'Jul', 'Jun', 'Mar', 'May',\n",
       "       'Nov', 'Oct', 'Sep'], dtype='<U69')"
      ]
     },
     "execution_count": 55,
     "metadata": {},
     "output_type": "execute_result"
    }
   ],
   "source": [
    "np.unique(loan_data_strings[:,0])"
   ]
  },
  {
   "cell_type": "code",
   "execution_count": 57,
   "id": "0e39e1df-7924-48fd-b344-7696b430c195",
   "metadata": {},
   "outputs": [],
   "source": [
    "months = np.array(['', 'Apr', 'Aug', 'Dec', 'Feb', 'Jan', 'Jul', 'Jun', 'Mar', 'May',\n",
    "       'Nov', 'Oct', 'Sep'])"
   ]
  },
  {
   "cell_type": "code",
   "execution_count": 59,
   "id": "16b4504a-c51c-47d7-af4f-6c4f9e46a182",
   "metadata": {},
   "outputs": [],
   "source": [
    "for i in range(13):\n",
    "    loan_data_strings[:,0] = np.where(loan_data_strings[:,0] == months[i],\n",
    "                                     i,\n",
    "                                     loan_data_strings[:,0])"
   ]
  },
  {
   "cell_type": "code",
   "execution_count": 61,
   "id": "ea789315-b5af-4547-8dc8-821be09f6606",
   "metadata": {},
   "outputs": [
    {
     "data": {
      "text/plain": [
       "array(['0', '1', '10', '11', '12', '2', '3', '4', '5', '6', '7', '8', '9'],\n",
       "      dtype='<U69')"
      ]
     },
     "execution_count": 61,
     "metadata": {},
     "output_type": "execute_result"
    }
   ],
   "source": [
    "np.unique(loan_data_strings[:,0])"
   ]
  },
  {
   "cell_type": "code",
   "execution_count": 63,
   "id": "3623dbf7-6f43-44e2-be8a-b79e1f2a739e",
   "metadata": {},
   "outputs": [
    {
     "data": {
      "text/plain": [
       "array(['issue_date', 'loan_status', 'term', 'grade', 'sub_grade',\n",
       "       'verification_status', 'url', 'addr_state'], dtype='<U19')"
      ]
     },
     "execution_count": 63,
     "metadata": {},
     "output_type": "execute_result"
    }
   ],
   "source": [
    "header_strings"
   ]
  },
  {
   "cell_type": "code",
   "execution_count": 65,
   "id": "342f6bd5-70a6-408a-9e01-887fb60e8730",
   "metadata": {},
   "outputs": [
    {
     "data": {
      "text/plain": [
       "array(['', 'Charged Off', 'Current', 'Default', 'Fully Paid',\n",
       "       'In Grace Period', 'Issued', 'Late (16-30 days)',\n",
       "       'Late (31-120 days)'], dtype='<U69')"
      ]
     },
     "execution_count": 65,
     "metadata": {},
     "output_type": "execute_result"
    }
   ],
   "source": [
    "np.unique(loan_data_strings[:,1])"
   ]
  },
  {
   "cell_type": "code",
   "execution_count": 67,
   "id": "4e2460bc-ae24-4898-81dd-2c5e12140e56",
   "metadata": {},
   "outputs": [],
   "source": [
    "status_bad = np.array(['', 'Charged Off', 'Default','Late (31-120 days)'])"
   ]
  },
  {
   "cell_type": "code",
   "execution_count": 69,
   "id": "40997f80-5b33-4b34-9c06-00c6f41e2494",
   "metadata": {},
   "outputs": [],
   "source": [
    "loan_data_strings[:,1] = np.where(np.isin(loan_data_strings[:,1], \n",
    "                                          status_bad), 0, 1)"
   ]
  },
  {
   "cell_type": "code",
   "execution_count": 71,
   "id": "f2940f21-ebe6-4538-b607-148c5811ee3b",
   "metadata": {},
   "outputs": [
    {
     "data": {
      "text/plain": [
       "array(['0', '1'], dtype='<U69')"
      ]
     },
     "execution_count": 71,
     "metadata": {},
     "output_type": "execute_result"
    }
   ],
   "source": [
    "np.unique(loan_data_strings[:,1])"
   ]
  },
  {
   "cell_type": "code",
   "execution_count": 73,
   "id": "2590356d-c259-4c6e-ae88-69b2d08b8fe8",
   "metadata": {},
   "outputs": [
    {
     "data": {
      "text/plain": [
       "array(['issue_date', 'loan_status', 'term', 'grade', 'sub_grade',\n",
       "       'verification_status', 'url', 'addr_state'], dtype='<U19')"
      ]
     },
     "execution_count": 73,
     "metadata": {},
     "output_type": "execute_result"
    }
   ],
   "source": [
    "header_strings"
   ]
  },
  {
   "cell_type": "code",
   "execution_count": 75,
   "id": "6d077606-39e1-47fe-bca9-c14104f642eb",
   "metadata": {},
   "outputs": [
    {
     "data": {
      "text/plain": [
       "array(['', '36 months', '60 months'], dtype='<U69')"
      ]
     },
     "execution_count": 75,
     "metadata": {},
     "output_type": "execute_result"
    }
   ],
   "source": [
    "np.unique(loan_data_strings[:,2])"
   ]
  },
  {
   "cell_type": "code",
   "execution_count": 77,
   "id": "9862c97b-2bea-4ede-ae81-963377377268",
   "metadata": {},
   "outputs": [
    {
     "data": {
      "text/plain": [
       "array(['36', '36', '36', ..., '36', '36', '36'], dtype='<U69')"
      ]
     },
     "execution_count": 77,
     "metadata": {},
     "output_type": "execute_result"
    }
   ],
   "source": [
    "loan_data_strings[:,2] = np.chararray.strip(loan_data_strings[:,2], ' months')\n",
    "loan_data_strings[:,2]"
   ]
  },
  {
   "cell_type": "code",
   "execution_count": 79,
   "id": "940a4a17-3ee2-4555-a8ad-6a67bf0eb2c2",
   "metadata": {},
   "outputs": [],
   "source": [
    "header_strings[2] = 'term_months'"
   ]
  },
  {
   "cell_type": "code",
   "execution_count": 81,
   "id": "f3f8867c-c02e-4f64-ac64-fd6a7202a115",
   "metadata": {},
   "outputs": [
    {
     "data": {
      "text/plain": [
       "array(['36', '36', '36', ..., '36', '36', '36'], dtype='<U69')"
      ]
     },
     "execution_count": 81,
     "metadata": {},
     "output_type": "execute_result"
    }
   ],
   "source": [
    "loan_data_strings[:,2] = np.where(loan_data_strings[:,2] == '', '60', loan_data_strings[:,2])\n",
    "loan_data_strings[:,2] "
   ]
  },
  {
   "cell_type": "code",
   "execution_count": 83,
   "id": "58ea0bae-cb85-438e-8dd9-f5704c5bf40c",
   "metadata": {},
   "outputs": [
    {
     "data": {
      "text/plain": [
       "array(['36', '60'], dtype='<U69')"
      ]
     },
     "execution_count": 83,
     "metadata": {},
     "output_type": "execute_result"
    }
   ],
   "source": [
    "np.unique(loan_data_strings[:,2])"
   ]
  },
  {
   "cell_type": "code",
   "execution_count": 85,
   "id": "06ab4fe0-1a47-42a0-880e-1ce78bd1d87d",
   "metadata": {},
   "outputs": [
    {
     "data": {
      "text/plain": [
       "array(['issue_date', 'loan_status', 'term_months', 'grade', 'sub_grade',\n",
       "       'verification_status', 'url', 'addr_state'], dtype='<U19')"
      ]
     },
     "execution_count": 85,
     "metadata": {},
     "output_type": "execute_result"
    }
   ],
   "source": [
    "header_strings"
   ]
  },
  {
   "cell_type": "code",
   "execution_count": 87,
   "id": "e198b90b-b4cc-4236-b6cf-8e48f8989a48",
   "metadata": {},
   "outputs": [
    {
     "data": {
      "text/plain": [
       "array(['', 'A', 'B', 'C', 'D', 'E', 'F', 'G'], dtype='<U69')"
      ]
     },
     "execution_count": 87,
     "metadata": {},
     "output_type": "execute_result"
    }
   ],
   "source": [
    "np.unique(loan_data_strings[:,3])"
   ]
  },
  {
   "cell_type": "code",
   "execution_count": 89,
   "id": "9598f050-a21f-4ec7-9a1e-4aea7c5567d7",
   "metadata": {},
   "outputs": [
    {
     "data": {
      "text/plain": [
       "array(['', 'A1', 'A2', 'A3', 'A4', 'A5', 'B1', 'B2', 'B3', 'B4', 'B5',\n",
       "       'C1', 'C2', 'C3', 'C4', 'C5', 'D1', 'D2', 'D3', 'D4', 'D5', 'E1',\n",
       "       'E2', 'E3', 'E4', 'E5', 'F1', 'F2', 'F3', 'F4', 'F5', 'G1', 'G2',\n",
       "       'G3', 'G4', 'G5'], dtype='<U69')"
      ]
     },
     "execution_count": 89,
     "metadata": {},
     "output_type": "execute_result"
    }
   ],
   "source": [
    "np.unique(loan_data_strings[:,4])"
   ]
  },
  {
   "cell_type": "code",
   "execution_count": 91,
   "id": "25c26899-8dc1-4131-a447-3666677fd9b8",
   "metadata": {},
   "outputs": [],
   "source": [
    "for i in np.unique(loan_data_strings[:,3])[1:]:\n",
    "    loan_data_strings[:,4] = np.where((loan_data_strings[:,4] == '')&(loan_data_strings[:,3] == i),\n",
    "                                      i + '5',\n",
    "                                      loan_data_strings[:,4])"
   ]
  },
  {
   "cell_type": "code",
   "execution_count": 93,
   "id": "e3ad0484-283f-472c-b1b3-3d7e4ec363c0",
   "metadata": {},
   "outputs": [
    {
     "data": {
      "text/plain": [
       "(array(['', 'A1', 'A2', 'A3', 'A4', 'A5', 'B1', 'B2', 'B3', 'B4', 'B5',\n",
       "        'C1', 'C2', 'C3', 'C4', 'C5', 'D1', 'D2', 'D3', 'D4', 'D5', 'E1',\n",
       "        'E2', 'E3', 'E4', 'E5', 'F1', 'F2', 'F3', 'F4', 'F5', 'G1', 'G2',\n",
       "        'G3', 'G4', 'G5'], dtype='<U69'),\n",
       " array([  9, 285, 278, 239, 323, 592, 509, 517, 530, 553, 633, 629, 567,\n",
       "        586, 564, 577, 391, 267, 250, 255, 288, 235, 162, 171, 139, 160,\n",
       "         94,  52,  34,  43,  24,  19,  10,   3,   7,   5], dtype=int64))"
      ]
     },
     "execution_count": 93,
     "metadata": {},
     "output_type": "execute_result"
    }
   ],
   "source": [
    "np.unique(loan_data_strings[:,4], return_counts = True)"
   ]
  },
  {
   "cell_type": "code",
   "execution_count": 95,
   "id": "11e4eb3d-43ca-4f04-954f-db4350c86a66",
   "metadata": {},
   "outputs": [],
   "source": [
    "loan_data_strings[:,4] = np.where((loan_data_strings[:,4] == ''), 'H1', loan_data_strings[:,4])"
   ]
  },
  {
   "cell_type": "code",
   "execution_count": 97,
   "id": "57b10056-f181-49f0-beeb-543c331e7264",
   "metadata": {},
   "outputs": [
    {
     "data": {
      "text/plain": [
       "array(['A1', 'A2', 'A3', 'A4', 'A5', 'B1', 'B2', 'B3', 'B4', 'B5', 'C1',\n",
       "       'C2', 'C3', 'C4', 'C5', 'D1', 'D2', 'D3', 'D4', 'D5', 'E1', 'E2',\n",
       "       'E3', 'E4', 'E5', 'F1', 'F2', 'F3', 'F4', 'F5', 'G1', 'G2', 'G3',\n",
       "       'G4', 'G5', 'H1'], dtype='<U69')"
      ]
     },
     "execution_count": 97,
     "metadata": {},
     "output_type": "execute_result"
    }
   ],
   "source": [
    "np.unique(loan_data_strings[:,4])"
   ]
  },
  {
   "cell_type": "code",
   "execution_count": 99,
   "id": "1d994e94-1803-4180-9642-fe126ab3c39b",
   "metadata": {},
   "outputs": [],
   "source": [
    "loan_data_strings = np.delete(loan_data_strings, 3, axis = 1)"
   ]
  },
  {
   "cell_type": "code",
   "execution_count": 101,
   "id": "dbffeb14-e7cb-4d69-948c-e9cb552e1566",
   "metadata": {},
   "outputs": [],
   "source": [
    "header_strings = np.delete(header_strings, 3)"
   ]
  },
  {
   "cell_type": "code",
   "execution_count": 103,
   "id": "d04f4a5a-652b-41bd-bd97-48e5bb8fde92",
   "metadata": {},
   "outputs": [
    {
     "data": {
      "text/plain": [
       "'sub_grade'"
      ]
     },
     "execution_count": 103,
     "metadata": {},
     "output_type": "execute_result"
    }
   ],
   "source": [
    "header_strings[3] "
   ]
  },
  {
   "cell_type": "code",
   "execution_count": 105,
   "id": "e08ceb7c-9276-41ee-a925-56e65292d1f4",
   "metadata": {},
   "outputs": [
    {
     "data": {
      "text/plain": [
       "{'A1': 1,\n",
       " 'A2': 2,\n",
       " 'A3': 3,\n",
       " 'A4': 4,\n",
       " 'A5': 5,\n",
       " 'B1': 6,\n",
       " 'B2': 7,\n",
       " 'B3': 8,\n",
       " 'B4': 9,\n",
       " 'B5': 10,\n",
       " 'C1': 11,\n",
       " 'C2': 12,\n",
       " 'C3': 13,\n",
       " 'C4': 14,\n",
       " 'C5': 15,\n",
       " 'D1': 16,\n",
       " 'D2': 17,\n",
       " 'D3': 18,\n",
       " 'D4': 19,\n",
       " 'D5': 20,\n",
       " 'E1': 21,\n",
       " 'E2': 22,\n",
       " 'E3': 23,\n",
       " 'E4': 24,\n",
       " 'E5': 25,\n",
       " 'F1': 26,\n",
       " 'F2': 27,\n",
       " 'F3': 28,\n",
       " 'F4': 29,\n",
       " 'F5': 30,\n",
       " 'G1': 31,\n",
       " 'G2': 32,\n",
       " 'G3': 33,\n",
       " 'G4': 34,\n",
       " 'G5': 35,\n",
       " 'H1': 36}"
      ]
     },
     "execution_count": 105,
     "metadata": {},
     "output_type": "execute_result"
    }
   ],
   "source": [
    "keys = list(np.unique(loan_data_strings[:,3]))\n",
    "values = list(range(1, len(np.unique(loan_data_strings[:,3])) + 1))\n",
    "dict_sub_grade = dict(zip(keys, values))\n",
    "dict_sub_grade"
   ]
  },
  {
   "cell_type": "code",
   "execution_count": 107,
   "id": "6cb1ad98-7da3-4556-8421-215708b77d36",
   "metadata": {},
   "outputs": [],
   "source": [
    "for i in np.unique(loan_data_strings[:,3]):\n",
    "    loan_data_strings[:,3] = np.where(loan_data_strings[:,3] == i,\n",
    "                                      dict_sub_grade[i],\n",
    "                                      loan_data_strings[:,3])"
   ]
  },
  {
   "cell_type": "code",
   "execution_count": 109,
   "id": "069f693b-7892-49d8-8a08-6d8f449c125f",
   "metadata": {},
   "outputs": [
    {
     "data": {
      "text/plain": [
       "array(['1', '10', '11', '12', '13', '14', '15', '16', '17', '18', '19',\n",
       "       '2', '20', '21', '22', '23', '24', '25', '26', '27', '28', '29',\n",
       "       '3', '30', '31', '32', '33', '34', '35', '36', '4', '5', '6', '7',\n",
       "       '8', '9'], dtype='<U69')"
      ]
     },
     "execution_count": 109,
     "metadata": {},
     "output_type": "execute_result"
    }
   ],
   "source": [
    "np.unique(loan_data_strings[:,3])"
   ]
  },
  {
   "cell_type": "code",
   "execution_count": 111,
   "id": "7e28ca63-5e13-4bd2-86f1-d5364163d5b4",
   "metadata": {},
   "outputs": [
    {
     "data": {
      "text/plain": [
       "array(['issue_date', 'loan_status', 'term_months', 'sub_grade',\n",
       "       'verification_status', 'url', 'addr_state'], dtype='<U19')"
      ]
     },
     "execution_count": 111,
     "metadata": {},
     "output_type": "execute_result"
    }
   ],
   "source": [
    "header_strings"
   ]
  },
  {
   "cell_type": "code",
   "execution_count": 113,
   "id": "7356b746-508f-4ce9-8771-c3e9d290a7fd",
   "metadata": {},
   "outputs": [
    {
     "data": {
      "text/plain": [
       "array(['', 'Not Verified', 'Source Verified', 'Verified'], dtype='<U69')"
      ]
     },
     "execution_count": 113,
     "metadata": {},
     "output_type": "execute_result"
    }
   ],
   "source": [
    "np.unique(loan_data_strings[:,4])"
   ]
  },
  {
   "cell_type": "code",
   "execution_count": 115,
   "id": "5c424c11-69e1-48e3-a470-da72b82b0e94",
   "metadata": {},
   "outputs": [
    {
     "data": {
      "text/plain": [
       "array(['0', '1'], dtype='<U69')"
      ]
     },
     "execution_count": 115,
     "metadata": {},
     "output_type": "execute_result"
    }
   ],
   "source": [
    "loan_data_strings[:,4] = np.where((loan_data_strings[:,4] == '') | (loan_data_strings[:,4] == 'Not Verified'), 0, 1)\n",
    "np.unique(loan_data_strings[:,4])"
   ]
  },
  {
   "cell_type": "code",
   "execution_count": 117,
   "id": "5fcdd52a-dcd2-4f1d-9605-1b4db3515160",
   "metadata": {},
   "outputs": [
    {
     "data": {
      "text/plain": [
       "array(['https://www.lendingclub.com/browse/loanDetail.action?loan_id=48010226',\n",
       "       'https://www.lendingclub.com/browse/loanDetail.action?loan_id=57693261',\n",
       "       'https://www.lendingclub.com/browse/loanDetail.action?loan_id=59432726',\n",
       "       ...,\n",
       "       'https://www.lendingclub.com/browse/loanDetail.action?loan_id=50415990',\n",
       "       'https://www.lendingclub.com/browse/loanDetail.action?loan_id=46154151',\n",
       "       'https://www.lendingclub.com/browse/loanDetail.action?loan_id=66055249'],\n",
       "      dtype='<U69')"
      ]
     },
     "execution_count": 117,
     "metadata": {},
     "output_type": "execute_result"
    }
   ],
   "source": [
    "loan_data_strings[:,5]"
   ]
  },
  {
   "cell_type": "code",
   "execution_count": 119,
   "id": "ec735d7a-9fb6-4df7-ab36-fcd418cf3207",
   "metadata": {},
   "outputs": [
    {
     "data": {
      "text/plain": [
       "array(['48010226', '57693261', '59432726', ..., '50415990', '46154151',\n",
       "       '66055249'], dtype='<U69')"
      ]
     },
     "execution_count": 119,
     "metadata": {},
     "output_type": "execute_result"
    }
   ],
   "source": [
    "loan_data_strings[:,5] = np.chararray.strip(loan_data_strings[:,5], 'https://www.lendingclub.com/browse/loanDetail.action?loan_id=')\n",
    "loan_data_strings[:,5]"
   ]
  },
  {
   "cell_type": "code",
   "execution_count": 121,
   "id": "4f425ea7-6547-4375-a28a-c61e672bccb5",
   "metadata": {},
   "outputs": [
    {
     "data": {
      "text/plain": [
       "array(['id', 'issue_d', 'loan_amnt', 'loan_status', 'funded_amnt', 'term',\n",
       "       'int_rate', 'installment', 'grade', 'sub_grade',\n",
       "       'verification_status', 'url', 'addr_state', 'total_pymnt'],\n",
       "      dtype='<U19')"
      ]
     },
     "execution_count": 121,
     "metadata": {},
     "output_type": "execute_result"
    }
   ],
   "source": [
    "header_full"
   ]
  },
  {
   "cell_type": "code",
   "execution_count": 123,
   "id": "042bb56e-43a0-4a91-a9e0-7068b40f49a9",
   "metadata": {},
   "outputs": [
    {
     "data": {
      "text/plain": [
       "array([48010226, 57693261, 59432726, ..., 50415990, 46154151, 66055249])"
      ]
     },
     "execution_count": 123,
     "metadata": {},
     "output_type": "execute_result"
    }
   ],
   "source": [
    "loan_data_numeric[:,0].astype(dtype = np.int32)"
   ]
  },
  {
   "cell_type": "code",
   "execution_count": 125,
   "id": "310eac0c-f885-4e31-a682-7d0fc88069ba",
   "metadata": {},
   "outputs": [
    {
     "data": {
      "text/plain": [
       "array([48010226, 57693261, 59432726, ..., 50415990, 46154151, 66055249])"
      ]
     },
     "execution_count": 125,
     "metadata": {},
     "output_type": "execute_result"
    }
   ],
   "source": [
    "loan_data_strings[:,5].astype(dtype = np.int32)"
   ]
  },
  {
   "cell_type": "code",
   "execution_count": 127,
   "id": "661ab262-370c-47e8-a5fb-b39613578b84",
   "metadata": {},
   "outputs": [
    {
     "data": {
      "text/plain": [
       "True"
      ]
     },
     "execution_count": 127,
     "metadata": {},
     "output_type": "execute_result"
    }
   ],
   "source": [
    "np.array_equal(loan_data_numeric[:,0].astype(dtype = np.int32), loan_data_strings[:,5].astype(dtype = np.int32))"
   ]
  },
  {
   "cell_type": "code",
   "execution_count": 129,
   "id": "ae983427-04f0-41f8-b6eb-9a7222229b8c",
   "metadata": {},
   "outputs": [],
   "source": [
    "loan_data_strings = np.delete(loan_data_strings, 5, axis = 1)\n",
    "header_strings = np.delete(header_strings, 5)"
   ]
  },
  {
   "cell_type": "code",
   "execution_count": 131,
   "id": "33f28235-60fc-40c6-b2a3-73d7c22a8153",
   "metadata": {},
   "outputs": [
    {
     "data": {
      "text/plain": [
       "array(['CA', 'NY', 'PA', ..., 'CA', 'OH', 'IL'], dtype='<U69')"
      ]
     },
     "execution_count": 131,
     "metadata": {},
     "output_type": "execute_result"
    }
   ],
   "source": [
    "loan_data_strings[:,5]"
   ]
  },
  {
   "cell_type": "code",
   "execution_count": 133,
   "id": "52d84d53-6f76-44d1-a6e9-355252eb1869",
   "metadata": {},
   "outputs": [
    {
     "data": {
      "text/plain": [
       "array(['issue_date', 'loan_status', 'term_months', 'sub_grade',\n",
       "       'verification_status', 'addr_state'], dtype='<U19')"
      ]
     },
     "execution_count": 133,
     "metadata": {},
     "output_type": "execute_result"
    }
   ],
   "source": [
    "header_strings"
   ]
  },
  {
   "cell_type": "code",
   "execution_count": 135,
   "id": "fc6786aa-d3bc-4424-9814-b9cdeba0b435",
   "metadata": {},
   "outputs": [],
   "source": [
    "header_strings[5] = 'state_adress'"
   ]
  },
  {
   "cell_type": "code",
   "execution_count": 137,
   "id": "e9310e98-ac4a-4a75-98ca-689a3876c499",
   "metadata": {},
   "outputs": [
    {
     "data": {
      "text/plain": [
       "(array(['CA', 'NY', 'TX', 'FL', '', 'IL', 'NJ', 'GA', 'PA', 'OH', 'MI',\n",
       "        'NC', 'VA', 'MD', 'AZ', 'WA', 'MA', 'CO', 'MO', 'MN', 'IN', 'WI',\n",
       "        'CT', 'TN', 'NV', 'AL', 'LA', 'OR', 'SC', 'KY', 'KS', 'OK', 'UT',\n",
       "        'AR', 'MS', 'NH', 'NM', 'WV', 'HI', 'RI', 'MT', 'DE', 'DC', 'WY',\n",
       "        'AK', 'NE', 'SD', 'VT', 'ND', 'ME'], dtype='<U69'),\n",
       " array([1336,  777,  758,  690,  500,  389,  341,  321,  320,  312,  267,\n",
       "         261,  242,  222,  220,  216,  210,  201,  160,  156,  152,  148,\n",
       "         143,  143,  130,  119,  116,  108,  107,   84,   84,   83,   74,\n",
       "          74,   61,   58,   57,   49,   44,   40,   28,   27,   27,   27,\n",
       "          26,   25,   24,   17,   16,   10], dtype=int64))"
      ]
     },
     "execution_count": 137,
     "metadata": {},
     "output_type": "execute_result"
    }
   ],
   "source": [
    "state_names, state_counts = np.unique(loan_data_strings[:,5], return_counts = True)\n",
    "state_counts_sorted = np.argsort(-state_counts)\n",
    "state_names[state_counts_sorted], state_counts[state_counts_sorted]"
   ]
  },
  {
   "cell_type": "code",
   "execution_count": 139,
   "id": "73d74fcf-d7b3-4d5e-98d0-88a118a88996",
   "metadata": {},
   "outputs": [],
   "source": [
    "loan_data_strings[:,5] = np.where(loan_data_strings[:,5] == '', 0, loan_data_strings[:,5]) "
   ]
  },
  {
   "cell_type": "code",
   "execution_count": 141,
   "id": "6fda9aaa-9382-432e-8dfb-85403b3ad67f",
   "metadata": {},
   "outputs": [],
   "source": [
    "states_west = np.array(['WA', 'OR','CA','NV','ID','MT', 'WY','UT','CO', 'AZ','NM','HI','AK'])\n",
    "states_south = np.array(['TX','OK','AR','LA','MS','AL','TN','KY','FL','GA','SC','NC','VA','WV','MD','DE','DC'])\n",
    "states_midwest = np.array(['ND','SD','NE','KS','MN','IA','MO','WI','IL','IN','MI','OH'])\n",
    "states_east = np.array(['PA','NY','NJ','CT','MA','VT','NH','ME','RI'])"
   ]
  },
  {
   "cell_type": "code",
   "execution_count": 143,
   "id": "1471eb23-0b58-49d9-9e5e-9222afdd0f94",
   "metadata": {},
   "outputs": [],
   "source": [
    "loan_data_strings[:,5] = np.where(np.isin(loan_data_strings[:,5],states_west ), 1, loan_data_strings[:,5]) \n",
    "loan_data_strings[:,5] = np.where(np.isin(loan_data_strings[:,5],states_south), 2, loan_data_strings[:,5]) \n",
    "loan_data_strings[:,5] = np.where(np.isin(loan_data_strings[:,5],states_midwest ), 3, loan_data_strings[:,5]) \n",
    "loan_data_strings[:,5] = np.where(np.isin(loan_data_strings[:,5],states_east ), 4, loan_data_strings[:,5]) "
   ]
  },
  {
   "cell_type": "code",
   "execution_count": 145,
   "id": "09370d6f-54a8-456b-8cf9-46f8d1b0e99d",
   "metadata": {},
   "outputs": [
    {
     "data": {
      "text/plain": [
       "array(['0', '1', '2', '3', '4'], dtype='<U69')"
      ]
     },
     "execution_count": 145,
     "metadata": {},
     "output_type": "execute_result"
    }
   ],
   "source": [
    "np.unique(loan_data_strings[:,5])"
   ]
  },
  {
   "cell_type": "code",
   "execution_count": 147,
   "id": "b0cd2780-5af3-43ac-8bc1-3b34493ab842",
   "metadata": {},
   "outputs": [
    {
     "data": {
      "text/plain": [
       "array([['9', '1', '36', '13', '1', '1'],\n",
       "       ['0', '1', '36', '5', '1', '4'],\n",
       "       ['12', '1', '36', '10', '1', '4'],\n",
       "       ...,\n",
       "       ['7', '1', '36', '5', '1', '1'],\n",
       "       ['1', '1', '36', '17', '1', '3'],\n",
       "       ['3', '1', '36', '4', '0', '3']], dtype='<U69')"
      ]
     },
     "execution_count": 147,
     "metadata": {},
     "output_type": "execute_result"
    }
   ],
   "source": [
    "loan_data_strings"
   ]
  },
  {
   "cell_type": "code",
   "execution_count": 149,
   "id": "deb2a29e-536e-4bf3-bfdb-855355d8967e",
   "metadata": {},
   "outputs": [],
   "source": [
    "loan_data_strings = loan_data_strings.astype(int)"
   ]
  },
  {
   "cell_type": "code",
   "execution_count": 151,
   "id": "f97f01d2-71cd-43d2-9ff0-b1209463bce9",
   "metadata": {},
   "outputs": [
    {
     "data": {
      "text/plain": [
       "array([[ 9,  1, 36, 13,  1,  1],\n",
       "       [ 0,  1, 36,  5,  1,  4],\n",
       "       [12,  1, 36, 10,  1,  4],\n",
       "       ...,\n",
       "       [ 7,  1, 36,  5,  1,  1],\n",
       "       [ 1,  1, 36, 17,  1,  3],\n",
       "       [ 3,  1, 36,  4,  0,  3]])"
      ]
     },
     "execution_count": 151,
     "metadata": {},
     "output_type": "execute_result"
    }
   ],
   "source": [
    "loan_data_strings"
   ]
  },
  {
   "cell_type": "code",
   "execution_count": 153,
   "id": "e067895c-d3d2-465d-a0a4-d2419c890bc1",
   "metadata": {},
   "outputs": [],
   "source": [
    "checkpoint_strings = checkpoint(\"checkpoint-string\", header_strings, loan_data_strings)"
   ]
  },
  {
   "cell_type": "code",
   "execution_count": 155,
   "id": "38272598-d363-41f7-90b9-9f8643ac728d",
   "metadata": {},
   "outputs": [
    {
     "data": {
      "text/plain": [
       "array(['issue_date', 'loan_status', 'term_months', 'sub_grade',\n",
       "       'verification_status', 'state_adress'], dtype='<U19')"
      ]
     },
     "execution_count": 155,
     "metadata": {},
     "output_type": "execute_result"
    }
   ],
   "source": [
    "checkpoint_strings[\"header\"]\n"
   ]
  },
  {
   "cell_type": "code",
   "execution_count": 157,
   "id": "d17c38a5-6477-42b2-b2fa-3bb5043f2a91",
   "metadata": {},
   "outputs": [
    {
     "data": {
      "text/plain": [
       "array([[ 9,  1, 36, 13,  1,  1],\n",
       "       [ 0,  1, 36,  5,  1,  4],\n",
       "       [12,  1, 36, 10,  1,  4],\n",
       "       ...,\n",
       "       [ 7,  1, 36,  5,  1,  1],\n",
       "       [ 1,  1, 36, 17,  1,  3],\n",
       "       [ 3,  1, 36,  4,  0,  3]])"
      ]
     },
     "execution_count": 157,
     "metadata": {},
     "output_type": "execute_result"
    }
   ],
   "source": [
    "checkpoint_strings[\"data\"]"
   ]
  },
  {
   "cell_type": "code",
   "execution_count": 159,
   "id": "b462642a-a986-4125-8d18-7ebfd53b5dd0",
   "metadata": {},
   "outputs": [
    {
     "data": {
      "text/plain": [
       "True"
      ]
     },
     "execution_count": 159,
     "metadata": {},
     "output_type": "execute_result"
    }
   ],
   "source": [
    "np.array_equal(checkpoint_strings[\"data\"], loan_data_strings)"
   ]
  },
  {
   "cell_type": "code",
   "execution_count": 161,
   "id": "2e0f356c-59f0-44b7-957c-d4e1a42aaaa6",
   "metadata": {},
   "outputs": [
    {
     "data": {
      "text/plain": [
       "array(['id', 'loan_amnt', 'funded_amnt', 'int_rate', 'installment',\n",
       "       'total_pymnt'], dtype='<U19')"
      ]
     },
     "execution_count": 161,
     "metadata": {},
     "output_type": "execute_result"
    }
   ],
   "source": [
    "header_numeric"
   ]
  },
  {
   "cell_type": "code",
   "execution_count": 163,
   "id": "c3747892-54b7-4cd6-9e51-94fc8551e29a",
   "metadata": {},
   "outputs": [
    {
     "data": {
      "text/plain": [
       "68616520.0"
      ]
     },
     "execution_count": 163,
     "metadata": {},
     "output_type": "execute_result"
    }
   ],
   "source": [
    "temporary_fill"
   ]
  },
  {
   "cell_type": "code",
   "execution_count": 165,
   "id": "fe7b7c2d-856d-4d5d-9273-78ad73bf5844",
   "metadata": {},
   "outputs": [
    {
     "data": {
      "text/plain": [
       "array([False, False, False, ..., False, False, False])"
      ]
     },
     "execution_count": 165,
     "metadata": {},
     "output_type": "execute_result"
    }
   ],
   "source": [
    "np.isin(loan_data_numeric[:,0], temporary_fill)"
   ]
  },
  {
   "cell_type": "code",
   "execution_count": 167,
   "id": "b40eb110-e09e-43a5-84f7-c2956197c42c",
   "metadata": {},
   "outputs": [
    {
     "data": {
      "text/plain": [
       "0"
      ]
     },
     "execution_count": 167,
     "metadata": {},
     "output_type": "execute_result"
    }
   ],
   "source": [
    "np.isin(loan_data_numeric[:,0], temporary_fill).sum()"
   ]
  },
  {
   "cell_type": "code",
   "execution_count": 169,
   "id": "df68edb6-a23d-4e02-a040-942e4698de03",
   "metadata": {},
   "outputs": [
    {
     "data": {
      "text/plain": [
       "array([[  373332.  ,     1000.  ,     1000.  ,        0.  ,       31.42,\n",
       "               0.  ],\n",
       "       [54015809.19,    15273.46,    15311.04,        0.01,      440.92,\n",
       "            3143.85],\n",
       "       [68616519.  ,    35000.  ,    35000.  ,        6.  ,     1372.97,\n",
       "           41913.62]])"
      ]
     },
     "execution_count": 169,
     "metadata": {},
     "output_type": "execute_result"
    }
   ],
   "source": [
    "temporary_stats[:, column_numeric]"
   ]
  },
  {
   "cell_type": "code",
   "execution_count": 171,
   "id": "2ccaacff-5ce4-4ec6-97a9-c163d745d2df",
   "metadata": {},
   "outputs": [
    {
     "data": {
      "text/plain": [
       "array([35000., 30000., 15000., ..., 10000., 10000., 10000.])"
      ]
     },
     "execution_count": 171,
     "metadata": {},
     "output_type": "execute_result"
    }
   ],
   "source": [
    "loan_data_numeric[:,2]"
   ]
  },
  {
   "cell_type": "code",
   "execution_count": 173,
   "id": "1171036d-0dc3-437d-818f-cbefe7652631",
   "metadata": {},
   "outputs": [
    {
     "data": {
      "text/plain": [
       "array([35000., 30000., 15000., ..., 10000., 10000., 10000.])"
      ]
     },
     "execution_count": 173,
     "metadata": {},
     "output_type": "execute_result"
    }
   ],
   "source": [
    "loan_data_numeric[:,2] = np.where(loan_data_numeric[:,2] == temporary_fill, \n",
    "                                  temporary_stats[0, column_numeric[2]],\n",
    "                                  loan_data_numeric[:,2])\n",
    "loan_data_numeric[:,2]"
   ]
  },
  {
   "cell_type": "code",
   "execution_count": 175,
   "id": "31ee8a79-9507-4ad3-a863-8863a6e3cb43",
   "metadata": {},
   "outputs": [
    {
     "data": {
      "text/plain": [
       "array(['id', 'loan_amnt', 'funded_amnt', 'int_rate', 'installment',\n",
       "       'total_pymnt'], dtype='<U19')"
      ]
     },
     "execution_count": 175,
     "metadata": {},
     "output_type": "execute_result"
    }
   ],
   "source": [
    "header_numeric"
   ]
  },
  {
   "cell_type": "code",
   "execution_count": 177,
   "id": "8ed57943-ae98-4400-b260-e28215abf372",
   "metadata": {},
   "outputs": [],
   "source": [
    "for i in [1, 3, 4, 5]:\n",
    "    loan_data_numeric[:,i] = np.where(loan_data_numeric[:,i] == temporary_fill, \n",
    "                                  temporary_stats[0, column_numeric[i]],\n",
    "                                  loan_data_numeric[:,i])"
   ]
  },
  {
   "cell_type": "code",
   "execution_count": 179,
   "id": "1b68c6eb-f548-4c67-bf34-ada4f10f9294",
   "metadata": {},
   "outputs": [
    {
     "data": {
      "text/plain": [
       "array([1.13, 1.12, 1.08, 1.11, 1.1 , 1.12, 1.09, 1.13, 1.13, 1.1 , 1.06,\n",
       "       1.09])"
      ]
     },
     "execution_count": 179,
     "metadata": {},
     "output_type": "execute_result"
    }
   ],
   "source": [
    "EUR_USD = np.genfromtxt(\"EUR-USD.csv\", delimiter = ',', autostrip = True, skip_header = 1, usecols = 3)\n",
    "EUR_USD"
   ]
  },
  {
   "cell_type": "code",
   "execution_count": 181,
   "id": "0d1ace0c-9440-453e-a0c0-ba9d9ff38d44",
   "metadata": {},
   "outputs": [
    {
     "data": {
      "text/plain": [
       "array([ 9,  0, 12, ...,  7,  1,  3])"
      ]
     },
     "execution_count": 181,
     "metadata": {},
     "output_type": "execute_result"
    }
   ],
   "source": [
    "loan_data_strings[:,0]"
   ]
  },
  {
   "cell_type": "code",
   "execution_count": 183,
   "id": "b0dcabcb-63a7-4a63-bf82-c1e18db4fd08",
   "metadata": {},
   "outputs": [
    {
     "data": {
      "text/plain": [
       "array([1.13, 1.11, 1.09, ..., 1.09, 1.13, 1.08])"
      ]
     },
     "execution_count": 183,
     "metadata": {},
     "output_type": "execute_result"
    }
   ],
   "source": [
    "exchange_rate = loan_data_strings[:,0]\n",
    "\n",
    "for i in range(1, 13):\n",
    "    exchange_rate = np.where(exchange_rate == i,\n",
    "                            EUR_USD[i-1],\n",
    "                            exchange_rate)\n",
    "    \n",
    "exchange_rate = np.where(exchange_rate == 0,\n",
    "                            np.mean(EUR_USD),\n",
    "                            exchange_rate)\n",
    "\n",
    "exchange_rate"
   ]
  },
  {
   "cell_type": "code",
   "execution_count": 185,
   "id": "8a83ac10-9d63-49aa-b088-88abae5e43a4",
   "metadata": {},
   "outputs": [],
   "source": [
    "exchange_rate = np.reshape(exchange_rate, (10000, 1))"
   ]
  },
  {
   "cell_type": "code",
   "execution_count": 187,
   "id": "a0c42572-6e32-4fc8-9795-9a0681bd3edf",
   "metadata": {},
   "outputs": [
    {
     "data": {
      "text/plain": [
       "array([[48010226.  ,    35000.  ,    35000.  , ...,     1184.86,\n",
       "            9452.96,        1.13],\n",
       "       [57693261.  ,    30000.  ,    30000.  , ...,      938.57,\n",
       "            4679.7 ,        1.11],\n",
       "       [59432726.  ,    15000.  ,    15000.  , ...,      494.86,\n",
       "            1969.83,        1.09],\n",
       "       ...,\n",
       "       [50415990.  ,    10000.  ,    10000.  , ...,       31.42,\n",
       "            2185.64,        1.09],\n",
       "       [46154151.  ,     1000.  ,    10000.  , ...,      354.3 ,\n",
       "            3199.4 ,        1.13],\n",
       "       [66055249.  ,    10000.  ,    10000.  , ...,      309.97,\n",
       "             301.9 ,        1.08]])"
      ]
     },
     "execution_count": 187,
     "metadata": {},
     "output_type": "execute_result"
    }
   ],
   "source": [
    "loan_data_numeric = np.hstack((loan_data_numeric, exchange_rate))\n",
    "loan_data_numeric"
   ]
  },
  {
   "cell_type": "code",
   "execution_count": 189,
   "id": "bd2dba06-3d58-4c3d-b612-ea6af1d69913",
   "metadata": {},
   "outputs": [
    {
     "data": {
      "text/plain": [
       "array(['id', 'loan_amnt', 'funded_amnt', 'int_rate', 'installment',\n",
       "       'total_pymnt', 'exchange_rate'], dtype='<U19')"
      ]
     },
     "execution_count": 189,
     "metadata": {},
     "output_type": "execute_result"
    }
   ],
   "source": [
    "header_numeric = np.concatenate((header_numeric, np.array(['exchange_rate'])))\n",
    "header_numeric"
   ]
  },
  {
   "cell_type": "code",
   "execution_count": 191,
   "id": "bf53542c-df30-457a-aa37-c05bde0b9b01",
   "metadata": {},
   "outputs": [],
   "source": [
    "colums_dollar = np.array([1,2,4,5])"
   ]
  },
  {
   "cell_type": "code",
   "execution_count": 193,
   "id": "3f279cc9-6073-4a74-bc4d-d774479cf693",
   "metadata": {},
   "outputs": [
    {
     "data": {
      "text/plain": [
       "array([1.06, 1.08, 1.09, 1.09, 1.1 , 1.1 , 1.11, 1.11, 1.12, 1.12, 1.13,\n",
       "       1.13, 1.13])"
      ]
     },
     "execution_count": 193,
     "metadata": {},
     "output_type": "execute_result"
    }
   ],
   "source": [
    "np.unique(loan_data_numeric[:,6])"
   ]
  },
  {
   "cell_type": "code",
   "execution_count": 195,
   "id": "ba40d6ae-57a7-4a8e-9636-4810edc21afb",
   "metadata": {},
   "outputs": [
    {
     "data": {
      "text/plain": [
       "array([[48010226.  ,    35000.  ,    35000.  , ...,    31094.7 ,\n",
       "            1052.65,     8398.2 ],\n",
       "       [57693261.  ,    30000.  ,    30000.  , ...,    27132.46,\n",
       "             848.86,     4232.39],\n",
       "       [59432726.  ,    15000.  ,    15000.  , ...,    13718.7 ,\n",
       "             452.59,     1801.57],\n",
       "       ...,\n",
       "       [50415990.  ,    10000.  ,    10000.  , ...,     9141.4 ,\n",
       "              28.72,     1997.98],\n",
       "       [46154151.  ,     1000.  ,    10000.  , ...,     8859.  ,\n",
       "             313.87,     2834.35],\n",
       "       [66055249.  ,    10000.  ,    10000.  , ...,     9233.4 ,\n",
       "             286.21,      278.76]])"
      ]
     },
     "execution_count": 195,
     "metadata": {},
     "output_type": "execute_result"
    }
   ],
   "source": [
    "for i in colums_dollar:\n",
    "    loan_data_numeric = np.hstack((loan_data_numeric, np.reshape(loan_data_numeric[:,i]/loan_data_numeric[:,6],(10000, 1))))\n",
    "loan_data_numeric"
   ]
  },
  {
   "cell_type": "code",
   "execution_count": 199,
   "id": "64ff88fa-834a-40c4-9ae0-50c0eae2141c",
   "metadata": {},
   "outputs": [
    {
     "data": {
      "text/plain": [
       "array(['loan_amnt_EUR', 'funded_amnt_EUR', 'installment_EUR',\n",
       "       'total_pymnt_EUR'], dtype='<U15')"
      ]
     },
     "execution_count": 199,
     "metadata": {},
     "output_type": "execute_result"
    }
   ],
   "source": [
    "header_aditional = np.array([column_name + '_EUR' for column_name in header_numeric[colums_dollar]])\n",
    "header_aditional"
   ]
  },
  {
   "cell_type": "code",
   "execution_count": 201,
   "id": "e6169c86-beb4-439a-a69e-a86b692bd03a",
   "metadata": {},
   "outputs": [
    {
     "data": {
      "text/plain": [
       "array(['id', 'loan_amnt', 'funded_amnt', 'int_rate', 'installment',\n",
       "       'total_pymnt', 'exchange_rate', 'loan_amnt_EUR', 'funded_amnt_EUR',\n",
       "       'installment_EUR', 'total_pymnt_EUR'], dtype='<U19')"
      ]
     },
     "execution_count": 201,
     "metadata": {},
     "output_type": "execute_result"
    }
   ],
   "source": [
    "header_numeric = np.concatenate((header_numeric, header_aditional))\n",
    "header_numeric "
   ]
  },
  {
   "cell_type": "code",
   "execution_count": 203,
   "id": "338aa2c3-e788-4800-9e80-a32e2f6f03f9",
   "metadata": {},
   "outputs": [],
   "source": [
    "column_index_order = [0, 1, 7, 2, 8, 3, 4, 9, 5, 10, 6]"
   ]
  },
  {
   "cell_type": "code",
   "execution_count": 205,
   "id": "d18e461c-5244-487b-a73c-48441c1f6318",
   "metadata": {},
   "outputs": [
    {
     "data": {
      "text/plain": [
       "array(['id', 'loan_amnt', 'loan_amnt_EUR', 'funded_amnt',\n",
       "       'funded_amnt_EUR', 'int_rate', 'installment', 'installment_EUR',\n",
       "       'total_pymnt', 'total_pymnt_EUR', 'exchange_rate'], dtype='<U19')"
      ]
     },
     "execution_count": 205,
     "metadata": {},
     "output_type": "execute_result"
    }
   ],
   "source": [
    "header_numeric[column_index_order]"
   ]
  },
  {
   "cell_type": "code",
   "execution_count": 207,
   "id": "469b429c-821d-4a2e-a210-eb154826bd7e",
   "metadata": {},
   "outputs": [],
   "source": [
    "header_numeric = header_numeric[column_index_order]"
   ]
  },
  {
   "cell_type": "code",
   "execution_count": 209,
   "id": "1b93214f-4af6-4e00-a2e2-126efe699cc9",
   "metadata": {},
   "outputs": [],
   "source": [
    "loan_data_numeric = loan_data_numeric[:,column_index_order]"
   ]
  },
  {
   "cell_type": "code",
   "execution_count": 213,
   "id": "52aaea19-67db-46de-950c-90bd66b2f498",
   "metadata": {},
   "outputs": [],
   "source": [
    "loan_data_numeric[:,5] = loan_data_numeric[:,5]/100"
   ]
  },
  {
   "cell_type": "code",
   "execution_count": 215,
   "id": "e41f9429-1ab5-403d-9797-9c510226424c",
   "metadata": {},
   "outputs": [
    {
     "data": {
      "text/plain": [
       "array([0.13, 0.08, 0.12, ..., 0.08, 0.17, 0.07])"
      ]
     },
     "execution_count": 215,
     "metadata": {},
     "output_type": "execute_result"
    }
   ],
   "source": [
    "loan_data_numeric[:,5] "
   ]
  },
  {
   "cell_type": "code",
   "execution_count": 217,
   "id": "a05c1e74-bf81-4706-8191-726f8e5c4c4b",
   "metadata": {},
   "outputs": [],
   "source": [
    "checkpoint_numeric = checkpoint(\"checkpoint-numeric\", header_numeric, loan_data_numeric)"
   ]
  },
  {
   "cell_type": "code",
   "execution_count": 221,
   "id": "c2931f5c-eced-42ad-824f-bb5db95865d0",
   "metadata": {},
   "outputs": [
    {
     "data": {
      "text/plain": [
       "(array(['id', 'loan_amnt', 'loan_amnt_EUR', 'funded_amnt',\n",
       "        'funded_amnt_EUR', 'int_rate', 'installment', 'installment_EUR',\n",
       "        'total_pymnt', 'total_pymnt_EUR', 'exchange_rate'], dtype='<U19'),\n",
       " array([[48010226.  ,    35000.  ,    31094.7 , ...,     9452.96,\n",
       "             8398.2 ,        1.13],\n",
       "        [57693261.  ,    30000.  ,    27132.46, ...,     4679.7 ,\n",
       "             4232.39,        1.11],\n",
       "        [59432726.  ,    15000.  ,    13718.7 , ...,     1969.83,\n",
       "             1801.57,        1.09],\n",
       "        ...,\n",
       "        [50415990.  ,    10000.  ,     9141.4 , ...,     2185.64,\n",
       "             1997.98,        1.09],\n",
       "        [46154151.  ,     1000.  ,      885.9 , ...,     3199.4 ,\n",
       "             2834.35,        1.13],\n",
       "        [66055249.  ,    10000.  ,     9233.4 , ...,      301.9 ,\n",
       "              278.76,        1.08]]))"
      ]
     },
     "execution_count": 221,
     "metadata": {},
     "output_type": "execute_result"
    }
   ],
   "source": [
    "checkpoint_numeric[\"header\"], checkpoint_numeric[\"data\"]"
   ]
  },
  {
   "cell_type": "code",
   "execution_count": 223,
   "id": "f4f98fb3-3a65-48f5-a674-2f2462665d5c",
   "metadata": {},
   "outputs": [
    {
     "data": {
      "text/plain": [
       "(10000, 6)"
      ]
     },
     "execution_count": 223,
     "metadata": {},
     "output_type": "execute_result"
    }
   ],
   "source": [
    "checkpoint_strings[\"data\"].shape"
   ]
  },
  {
   "cell_type": "code",
   "execution_count": 225,
   "id": "67b45af3-4463-40d5-8def-d0de87bdcee3",
   "metadata": {},
   "outputs": [
    {
     "data": {
      "text/plain": [
       "(10000, 11)"
      ]
     },
     "execution_count": 225,
     "metadata": {},
     "output_type": "execute_result"
    }
   ],
   "source": [
    "checkpoint_numeric[\"data\"].shape"
   ]
  },
  {
   "cell_type": "code",
   "execution_count": 231,
   "id": "d915d170-8ea3-4527-94a7-9a063c89bb83",
   "metadata": {},
   "outputs": [
    {
     "data": {
      "text/plain": [
       "array([[48010226.  ,    35000.  ,    31094.7 , ...,       13.  ,\n",
       "               1.  ,        1.  ],\n",
       "       [57693261.  ,    30000.  ,    27132.46, ...,        5.  ,\n",
       "               1.  ,        4.  ],\n",
       "       [59432726.  ,    15000.  ,    13718.7 , ...,       10.  ,\n",
       "               1.  ,        4.  ],\n",
       "       ...,\n",
       "       [50415990.  ,    10000.  ,     9141.4 , ...,        5.  ,\n",
       "               1.  ,        1.  ],\n",
       "       [46154151.  ,     1000.  ,      885.9 , ...,       17.  ,\n",
       "               1.  ,        3.  ],\n",
       "       [66055249.  ,    10000.  ,     9233.4 , ...,        4.  ,\n",
       "               0.  ,        3.  ]])"
      ]
     },
     "execution_count": 231,
     "metadata": {},
     "output_type": "execute_result"
    }
   ],
   "source": [
    "loan_data = np.hstack((checkpoint_numeric[\"data\"], checkpoint_strings[\"data\"]))\n",
    "loan_data"
   ]
  },
  {
   "cell_type": "code",
   "execution_count": 233,
   "id": "e692dc8a-4fca-4cce-afc5-a8d99f7e77ff",
   "metadata": {},
   "outputs": [
    {
     "data": {
      "text/plain": [
       "0"
      ]
     },
     "execution_count": 233,
     "metadata": {},
     "output_type": "execute_result"
    }
   ],
   "source": [
    "np.isnan(loan_data).sum()"
   ]
  },
  {
   "cell_type": "code",
   "execution_count": 235,
   "id": "4e4faad1-b5df-4489-93b2-d071b5784c7c",
   "metadata": {},
   "outputs": [],
   "source": [
    "header_full = np.concatenate((checkpoint_numeric[\"header\"], checkpoint_strings[\"header\"]))"
   ]
  },
  {
   "cell_type": "code",
   "execution_count": 239,
   "id": "217a3363-1b8d-416a-b738-1ddd808d54ed",
   "metadata": {},
   "outputs": [
    {
     "data": {
      "text/plain": [
       "array([[  373332.  ,     9950.  ,     9401.85, ...,       21.  ,\n",
       "               0.  ,        1.  ],\n",
       "       [  575239.  ,    12000.  ,    11338.92, ...,       25.  ,\n",
       "               1.  ,        2.  ],\n",
       "       [  707689.  ,    10000.  ,     8997.4 , ...,       13.  ,\n",
       "               1.  ,        0.  ],\n",
       "       ...,\n",
       "       [68614880.  ,     5600.  ,     5170.7 , ...,        8.  ,\n",
       "               1.  ,        1.  ],\n",
       "       [68615915.  ,     4000.  ,     3693.36, ...,       10.  ,\n",
       "               1.  ,        2.  ],\n",
       "       [68616519.  ,    21600.  ,    19944.14, ...,        3.  ,\n",
       "               0.  ,        2.  ]])"
      ]
     },
     "execution_count": 239,
     "metadata": {},
     "output_type": "execute_result"
    }
   ],
   "source": [
    "loan_data = loan_data[np.argsort(loan_data[:,0])]\n",
    "loan_data"
   ]
  },
  {
   "cell_type": "code",
   "execution_count": 241,
   "id": "7182f679-b29b-4880-b6d1-296a06ff3540",
   "metadata": {},
   "outputs": [
    {
     "data": {
      "text/plain": [
       "array([   0,    1,    2, ..., 9997, 9998, 9999], dtype=int64)"
      ]
     },
     "execution_count": 241,
     "metadata": {},
     "output_type": "execute_result"
    }
   ],
   "source": [
    "np.argsort(loan_data[:,0])"
   ]
  },
  {
   "cell_type": "code",
   "execution_count": 243,
   "id": "ac5f67dc-f62a-44dc-a148-37c0d2849084",
   "metadata": {},
   "outputs": [],
   "source": [
    "loan_data = np.vstack((header_full, loan_data))"
   ]
  },
  {
   "cell_type": "code",
   "execution_count": 253,
   "id": "a58937a0-0c0b-409c-b3a2-751c5709afc4",
   "metadata": {},
   "outputs": [],
   "source": [
    "np.savetxt('loan-data-preprocessed.csv',\n",
    "           loan_data,\n",
    "           fmt=\"%s\",\n",
    "           delimiter=',')\n"
   ]
  },
  {
   "cell_type": "code",
   "execution_count": null,
   "id": "50f7e73e-9676-4d6f-a4e7-54d7ca3af9bf",
   "metadata": {},
   "outputs": [],
   "source": []
  }
 ],
 "metadata": {
  "kernelspec": {
   "display_name": "Python 3 (ipykernel)",
   "language": "python",
   "name": "python3"
  },
  "language_info": {
   "codemirror_mode": {
    "name": "ipython",
    "version": 3
   },
   "file_extension": ".py",
   "mimetype": "text/x-python",
   "name": "python",
   "nbconvert_exporter": "python",
   "pygments_lexer": "ipython3",
   "version": "3.12.4"
  }
 },
 "nbformat": 4,
 "nbformat_minor": 5
}
